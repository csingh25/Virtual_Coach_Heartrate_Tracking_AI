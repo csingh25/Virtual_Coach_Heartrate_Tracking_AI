{
 "cells": [
  {
   "cell_type": "markdown",
   "metadata": {},
   "source": [
    "![alt text](logo.png \"Virtual Coach\")\n",
    "<h1><center>Virtual Coach</center></h1>"
   ]
  },
  {
   "cell_type": "markdown",
   "metadata": {},
   "source": [
    "## Fitness activities round the globe"
   ]
  },
  {
   "cell_type": "markdown",
   "metadata": {},
   "source": [
    "![alt text](strava.jpg \"Activities around the world\")"
   ]
  },
  {
   "cell_type": "markdown",
   "metadata": {},
   "source": [
    "# 39.8% of our country's population are obese/at the risk of obseity\n",
    "# But there is also some risk of over working out `Rhambdo` \n",
    "#### https://www.webmd.com/fitness-exercise/news/20180222/exercising-yourself-to-death-the-risk-of-rhabdo\n"
   ]
  },
  {
   "cell_type": "markdown",
   "metadata": {},
   "source": [
    "<h1><center>Heartrate Zones</center></h1>\n",
    "\n",
    "![alt text](zones.png \"Zones\")"
   ]
  },
  {
   "cell_type": "markdown",
   "metadata": {},
   "source": [
    "## `Raw data -> Building data pipeline -> Insights -> Recommendations`"
   ]
  },
  {
   "cell_type": "markdown",
   "metadata": {},
   "source": [
    "![alt text](intro.jpg \"Virtual Coach\")"
   ]
  },
  {
   "cell_type": "markdown",
   "metadata": {},
   "source": [
    "# 1. Creating connections to SQL database"
   ]
  },
  {
   "cell_type": "code",
   "execution_count": 14,
   "metadata": {},
   "outputs": [
    {
     "data": {
      "text/html": [
       "<script>\n",
       "code_show=true;\n",
       "function code_toggle() {\n",
       "if (code_show){\n",
       "$('div.input').hide();\n",
       "} else {\n",
       "$('div.input').show();\n",
       "}\n",
       "code_show = !code_show\n",
       "}\n",
       "$( document ).ready(code_toggle);\n",
       "</script>\n",
       "<form action=\"javascript:code_toggle()\"><input type=\"submit\" value=\"Click here to toggle on/off the raw code.\"></form>"
      ],
      "text/plain": [
       "<IPython.core.display.HTML object>"
      ]
     },
     "execution_count": 14,
     "metadata": {},
     "output_type": "execute_result"
    }
   ],
   "source": [
    "from IPython.display import HTML\n",
    "\n",
    "HTML('''<script>\n",
    "code_show=true;\n",
    "function code_toggle() {\n",
    "if (code_show){\n",
    "$('div.input').hide();\n",
    "} else {\n",
    "$('div.input').show();\n",
    "}\n",
    "code_show = !code_show\n",
    "}\n",
    "$( document ).ready(code_toggle);\n",
    "</script>\n",
    "<form action=\"javascript:code_toggle()\"><input type=\"submit\" value=\"Click here to toggle on/off the raw code.\"></form>''')"
   ]
  },
  {
   "cell_type": "code",
   "execution_count": 87,
   "metadata": {},
   "outputs": [],
   "source": [
    "## connection functions\n",
    "\n",
    "import os\n",
    "import sqlite3\n",
    "from sqlite3 import Error\n",
    "import gzip\n",
    "import pandas as pd\n",
    "import matplotlib as plt\n",
    "\n",
    "def create_connection(db_file, delete_db=False):\n",
    "    if delete_db and os.path.exists(db_file):\n",
    "        os.remove(db_file)\n",
    "    conn = None\n",
    "    try:\n",
    "        conn = sqlite3.connect(db_file)\n",
    "        conn.execute(\"PRAGMA foreign_keys = 1\")\n",
    "    except Error as e:\n",
    "        print(e)\n",
    "\n",
    "        \n",
    "    return conn\n",
    "\n",
    "db_file = 'virtual_coach.db'"
   ]
  },
  {
   "cell_type": "code",
   "execution_count": 63,
   "metadata": {},
   "outputs": [],
   "source": [
    "try:\n",
    "    conn.close()\n",
    "except:\n",
    "    pass"
   ]
  },
  {
   "cell_type": "code",
   "execution_count": 64,
   "metadata": {},
   "outputs": [],
   "source": [
    "# Creating the database\n",
    "# The below code will delete the current db and recreate it\n",
    "# Run with care\n",
    "\n",
    "# db_file = 'virtual_coach.db'\n",
    "# conn = create_connection(db_file, delete_db=True)\n",
    "# conn.close()\n"
   ]
  },
  {
   "cell_type": "code",
   "execution_count": 88,
   "metadata": {},
   "outputs": [
    {
     "name": "stdout",
     "output_type": "stream",
     "text": [
      "C:\\UB\\Studies\\Semester 1\\Programming\\virtual_coach\\2. Activity Datasets\n"
     ]
    }
   ],
   "source": [
    "# setting the current directory where all the activity datasets exist\n",
    "%cd \"C:\\UB\\Studies\\Semester 1\\Programming\\virtual_coach\\2. Activity Datasets\""
   ]
  },
  {
   "cell_type": "markdown",
   "metadata": {},
   "source": [
    "### 1.1 Sample dataset structure"
   ]
  },
  {
   "cell_type": "code",
   "execution_count": null,
   "metadata": {},
   "outputs": [],
   "source": [
    "# time\tactivityType\tlapNumber\tdistance\tspeed\tcalories\tlat\tlong\televation\theartRate\tcycles\n",
    "# 0\t0\t1\t0\t0\t0\t42.953842\t-78.829602\t196.5\t94\t0\n",
    "# 1\t0\t1\t0\t0\t0\t42.953856\t-78.829601\t196.5\t95\t0\n",
    "# 2\t0\t1\t2.08\t1.62\t0\t42.953868\t-78.829604\t196.6\t95\t0\n",
    "# 3\t0\t1\t3.05\t1.67\t0\t42.95388\t-78.829612\t196.6\t96\t0\n",
    "# 4\t0\t1\t4.5\t1.62\t0\t42.953891\t-78.829625\t196.6\t96\t0\n"
   ]
  },
  {
   "cell_type": "code",
   "execution_count": 66,
   "metadata": {},
   "outputs": [],
   "source": [
    "# Reading all the datasets and pushing it into the table \n",
    "# creating a list of all the csv files\n",
    "\n",
    "dataSetsPath=r\"C:\\UB\\Studies\\Semester 1\\Programming\\virtual_coach\\2. Activity Datasets\"\n",
    "import random\n",
    "import os\n",
    "import pandas as pd\n",
    "list_files=[]\n",
    "directory = os.path.join(os.getcwd(),dataSetsPath)\n",
    "for root,dirs,files in os.walk(directory):\n",
    "    for file in files:\n",
    "        if file.endswith(\".csv\"):\n",
    "            filePath=dataSetsPath+\"/\"+file\n",
    "            df= pd.read_csv(filePath)\n",
    "            filename= file\n",
    "            list_files.append(filename)\n",
    "            "
   ]
  },
  {
   "cell_type": "code",
   "execution_count": 67,
   "metadata": {},
   "outputs": [],
   "source": [
    "conn = create_connection(db_file, delete_db=False)\n",
    "with conn:\n",
    "    c = conn.cursor()\n",
    "    sql='Create TABLE activities_base(Activity_id TEXT, TIME INTEGER, ACTIVITYTYPE INTEGER, LAPNUMBER INTEGER, DISTANCE REAL, SPEED REAL, CALORIES INTEGER, LAT REAL, LONG REAL, ELEVATION REAL, HEARTRATE INTEGER, CYCLES INTEGER);'\n",
    "    c.execute(sql)\n",
    "\n",
    "for file in list_files:\n",
    "    activity=pd.read_csv(file)\n",
    "    rows=activity.shape[0]\n",
    "    for i in range(0,rows):\n",
    "        packet=activity.iloc[i,].tolist()\n",
    "        packet=[file]+packet\n",
    "        with conn:\n",
    "            c = conn.cursor()\n",
    "            sql = \"\"\" INSERT INTO activities_base VALUES(?,?,?,?,?,?,?,?,?,?,?,?) \"\"\"\n",
    "            c.execute(sql,packet)\n",
    "\n"
   ]
  },
  {
   "cell_type": "markdown",
   "metadata": {},
   "source": [
    "# 2. Checking if the data has got inserted as expected"
   ]
  },
  {
   "cell_type": "code",
   "execution_count": 14,
   "metadata": {},
   "outputs": [
    {
     "name": "stdout",
     "output_type": "stream",
     "text": [
      "[('Running_07-03-05.csv', 972), ('Running_07-10-59.csv', 6767), ('Running_07-43-57.csv', 6240), ('Running_08-12-06.csv', 1373), ('Running_08-47-01.csv', 3536), ('Running_09-51-41.csv', 1159), ('Running_09-55-32.csv', 1391), ('Running_10-15-22.csv', 60), ('Running_10-36-19.csv', 716), ('Running_10-51-40.csv', 196), ('Running_10-55-43.csv', 345), ('Running_11-01-28.csv', 10627), ('Running_11-44-18.csv', 3972), ('Running_13-17-48.csv', 125), ('Running_15-00-22.csv', 129), ('Running_16-39-48.csv', 52), ('Running_17-22-03.csv', 1559), ('Running_17-59-58.csv', 3133), ('Running_18-15-35.csv', 1079), ('Running_18-17-02.csv', 513), ('Running_18-20-02.csv', 2146), ('Running_18-26-56.csv', 3564), ('Running_18-34-29.csv', 2866), ('Running_19-11-05.csv', 1588), ('Running_19-30-16.csv', 3544), ('Running_19-38-28.csv', 1177), ('Running_19-42-30.csv', 3069), ('Running_19-42-54.csv', 2301), ('Running_19-43-36.csv', 1669), ('Running_19-46-35.csv', 858), ('Running_19-51-43.csv', 1709), ('Running_20-00-36.csv', 1970), ('Running_20-09-27.csv', 1562), ('Running_20-20-04.csv', 1463), ('Running_20-24-47.csv', 451), ('Running_21-06-52.csv', 366)]\n"
     ]
    }
   ],
   "source": [
    "conn = create_connection(db_file, delete_db=False)\n",
    "with conn:\n",
    "    c = conn.cursor()\n",
    "    sql='select activity_id, count(*) as cnt from activities_base base group by 1;'\n",
    "    c.execute(sql)\n",
    "    rows=c.fetchall()\n",
    "    print(rows)"
   ]
  },
  {
   "cell_type": "code",
   "execution_count": 15,
   "metadata": {},
   "outputs": [
    {
     "name": "stdout",
     "output_type": "stream",
     "text": [
      "[(36,)]\n"
     ]
    }
   ],
   "source": [
    "conn = create_connection(db_file, delete_db=False)\n",
    "with conn:\n",
    "    c = conn.cursor()\n",
    "    sql='select count(*) from (select activity_id as cnt from activities_base base group by 1)x;'\n",
    "    c.execute(sql)\n",
    "    rows=c.fetchall()\n",
    "    print(rows)"
   ]
  },
  {
   "cell_type": "code",
   "execution_count": 89,
   "metadata": {},
   "outputs": [],
   "source": [
    "def query_activities_db(sql):\n",
    "    conn = create_connection(db_file, delete_db=False)\n",
    "    with conn:\n",
    "        c = conn.cursor()\n",
    "        c.execute(sql)\n",
    "        rows=c.fetchall()\n",
    "        return(rows)\n"
   ]
  },
  {
   "cell_type": "code",
   "execution_count": 24,
   "metadata": {},
   "outputs": [
    {
     "data": {
      "text/plain": [
       "[(36,)]"
      ]
     },
     "execution_count": 24,
     "metadata": {},
     "output_type": "execute_result"
    }
   ],
   "source": [
    "sql='select count(*) from (select activity_id as cnt from activities_base base group by 1)x;'\n",
    "query_activities_db(sql)"
   ]
  },
  {
   "cell_type": "markdown",
   "metadata": {},
   "source": [
    "## 2.1 Activities and their duration"
   ]
  },
  {
   "cell_type": "code",
   "execution_count": 21,
   "metadata": {},
   "outputs": [
    {
     "data": {
      "text/plain": [
       "[('Running_10-51-40.csv', 192),\n",
       " ('Running_07-10-59.csv', 190),\n",
       " ('Running_09-55-32.csv', 188),\n",
       " ('Running_19-46-35.csv', 188),\n",
       " ('Running_18-34-29.csv', 185),\n",
       " ('Running_19-42-54.csv', 185),\n",
       " ('Running_19-51-43.csv', 184),\n",
       " ('Running_11-44-18.csv', 182),\n",
       " ('Running_20-00-36.csv', 181),\n",
       " ('Running_08-47-01.csv', 177),\n",
       " ('Running_07-43-57.csv', 176),\n",
       " ('Running_18-26-56.csv', 174),\n",
       " ('Running_15-00-22.csv', 172),\n",
       " ('Running_13-17-48.csv', 170),\n",
       " ('Running_17-59-58.csv', 170),\n",
       " ('Running_19-42-30.csv', 170),\n",
       " ('Running_08-12-06.csv', 169),\n",
       " ('Running_18-20-02.csv', 169),\n",
       " ('Running_20-20-04.csv', 168),\n",
       " ('Running_10-36-19.csv', 167),\n",
       " ('Running_09-51-41.csv', 165),\n",
       " ('Running_19-43-36.csv', 165),\n",
       " ('Running_19-30-16.csv', 164),\n",
       " ('Running_20-09-27.csv', 164),\n",
       " ('Running_21-06-52.csv', 163),\n",
       " ('Running_20-24-47.csv', 162),\n",
       " ('Running_10-55-43.csv', 161),\n",
       " ('Running_17-22-03.csv', 159),\n",
       " ('Running_19-38-28.csv', 159),\n",
       " ('Running_19-11-05.csv', 158),\n",
       " ('Running_07-03-05.csv', 155),\n",
       " ('Running_10-15-22.csv', 136),\n",
       " ('Running_11-01-28.csv', 136),\n",
       " ('Running_18-17-02.csv', 133),\n",
       " ('Running_18-15-35.csv', 121),\n",
       " ('Running_16-39-48.csv', 120)]"
      ]
     },
     "execution_count": 21,
     "metadata": {},
     "output_type": "execute_result"
    }
   ],
   "source": [
    "# During how many activities the user has stayed in zone 5?\n",
    "sql=\"select activity_id,max(heartrate) from activities_base group by 1 order by 2 desc;\"\n",
    "query_activities_db(sql)"
   ]
  },
  {
   "cell_type": "code",
   "execution_count": 22,
   "metadata": {},
   "outputs": [
    {
     "data": {
      "text/plain": [
       "[('Running_07-10-59.csv', 123),\n",
       " ('Running_19-46-35.csv', 95),\n",
       " ('Running_10-51-40.csv', 89),\n",
       " ('Running_19-51-43.csv', 54),\n",
       " ('Running_18-34-29.csv', 46),\n",
       " ('Running_19-42-54.csv', 42),\n",
       " ('Running_09-55-32.csv', 13),\n",
       " ('Running_11-44-18.csv', 10),\n",
       " ('Running_20-00-36.csv', 6),\n",
       " ('Running_07-03-05.csv', 0),\n",
       " ('Running_07-43-57.csv', 0),\n",
       " ('Running_08-12-06.csv', 0),\n",
       " ('Running_08-47-01.csv', 0),\n",
       " ('Running_09-51-41.csv', 0),\n",
       " ('Running_10-15-22.csv', 0),\n",
       " ('Running_10-36-19.csv', 0),\n",
       " ('Running_10-55-43.csv', 0),\n",
       " ('Running_11-01-28.csv', 0),\n",
       " ('Running_13-17-48.csv', 0),\n",
       " ('Running_15-00-22.csv', 0),\n",
       " ('Running_16-39-48.csv', 0),\n",
       " ('Running_17-22-03.csv', 0),\n",
       " ('Running_17-59-58.csv', 0),\n",
       " ('Running_18-15-35.csv', 0),\n",
       " ('Running_18-17-02.csv', 0),\n",
       " ('Running_18-20-02.csv', 0),\n",
       " ('Running_18-26-56.csv', 0),\n",
       " ('Running_19-11-05.csv', 0),\n",
       " ('Running_19-30-16.csv', 0),\n",
       " ('Running_19-38-28.csv', 0),\n",
       " ('Running_19-42-30.csv', 0),\n",
       " ('Running_19-43-36.csv', 0),\n",
       " ('Running_20-09-27.csv', 0),\n",
       " ('Running_20-20-04.csv', 0),\n",
       " ('Running_20-24-47.csv', 0),\n",
       " ('Running_21-06-52.csv', 0)]"
      ]
     },
     "execution_count": 22,
     "metadata": {},
     "output_type": "execute_result"
    }
   ],
   "source": [
    "# activities where the user has stayed in zone 5 for more than 10 seconds \n",
    "\n",
    "sql=\"select activity_id, sum(zone_5_flag) as time_spend_in_zone_5 from (select activity_id,case when heartrate>179 then 1 else 0 end as zone_5_flag from activities_base)x group by 1 order by 2 desc;\"\n",
    "query_activities_db(sql)"
   ]
  },
  {
   "cell_type": "code",
   "execution_count": 90,
   "metadata": {},
   "outputs": [],
   "source": [
    "# creating a list of activities where the user has stayed in zone 5 for more than 10 seconds\n",
    "\n",
    "sql=\"select activity_id, sum(zone_5_flag) as time_spend_in_zone_5 from (select activity_id,case when heartrate>179 then 1 else 0 end as zone_5_flag from activities_base)x group by 1 having sum(zone_5_flag)>9 order by 2 desc;\"\n",
    "zone_5_list=query_activities_db(sql)"
   ]
  },
  {
   "cell_type": "markdown",
   "metadata": {},
   "source": [
    "## 2.2 List where the user has stayed in zone 5 for long\n",
    "`This list can be used for model training and validation` "
   ]
  },
  {
   "cell_type": "code",
   "execution_count": 26,
   "metadata": {},
   "outputs": [
    {
     "data": {
      "text/plain": [
       "['Running_07-10-59.csv',\n",
       " 'Running_19-46-35.csv',\n",
       " 'Running_10-51-40.csv',\n",
       " 'Running_19-51-43.csv',\n",
       " 'Running_18-34-29.csv',\n",
       " 'Running_19-42-54.csv',\n",
       " 'Running_09-55-32.csv',\n",
       " 'Running_11-44-18.csv']"
      ]
     },
     "execution_count": 26,
     "metadata": {},
     "output_type": "execute_result"
    }
   ],
   "source": [
    "# creating a list of the activities that are important for model train and validation\n",
    "zone_5_filenames=[]\n",
    "for i in zone_5_list:\n",
    "    zone_5_filenames=zone_5_filenames+[i[0]]\n",
    "    \n",
    "zone_5_filenames"
   ]
  },
  {
   "cell_type": "code",
   "execution_count": null,
   "metadata": {},
   "outputs": [],
   "source": [
    "# creating another table with zone mapping\n",
    "\n",
    "sql=\"create table activities_base_with_zone as select *, case when heartrate>179 then 5 when heartrate>159 then 4 when heartrate>139 then 3 when heartrate>119 then 2 when heartrate>99 then 1 else 0 end as zone from activities_base;\"\n",
    "query_activities_db(sql)\n"
   ]
  },
  {
   "cell_type": "code",
   "execution_count": 29,
   "metadata": {},
   "outputs": [
    {
     "data": {
      "text/plain": [
       "[(0, 10545), (1, 15385), (2, 14858), (3, 24482), (4, 8499), (5, 478)]"
      ]
     },
     "execution_count": 29,
     "metadata": {},
     "output_type": "execute_result"
    }
   ],
   "source": [
    "sql = 'select zone, count(*) from activities_base_with_zone group by 1;'\n",
    "query_activities_db(sql)"
   ]
  },
  {
   "cell_type": "code",
   "execution_count": 35,
   "metadata": {},
   "outputs": [],
   "source": [
    "sql=\"select zone, avg(first_zone) as avg_time from (select activity_id, zone, min(time) as first_zone from activities_base_with_zone group by 1,2)x where zone>2 group by 1;\"\n",
    "time_taken=query_activities_db(sql)"
   ]
  },
  {
   "cell_type": "markdown",
   "metadata": {
    "slideshow": {
     "slide_type": "skip"
    }
   },
   "source": [
    "# 3. How long every athlete warmsup?\n",
    "\n",
    "Checking `the time taken during an activity` before a particular zone is reached"
   ]
  },
  {
   "cell_type": "code",
   "execution_count": 84,
   "metadata": {},
   "outputs": [
    {
     "data": {
      "image/png": "[encoded data removed]",
      "text/plain": [
       "<Figure size 640x480 with 1 Axes>"
      ]
     },
     "metadata": {},
     "output_type": "display_data"
    }
   ],
   "source": [
    "import matplotlib.pyplot as plt; plt.rcdefaults()\n",
    "import numpy as np\n",
    "import matplotlib.pyplot as plt\n",
    "\n",
    "zones=[]\n",
    "for i in time_taken:\n",
    "    zones=zones+[i[0]]\n",
    "\n",
    "y_pos = np.arange(len(zones))\n",
    "\n",
    "warmup_time=[]\n",
    "for i in time_taken:\n",
    "    warmup_time=warmup_time+[i[1]]\n",
    "    \n",
    "plt.barh(y_pos, warmup_time, align='center', alpha=1)\n",
    "plt.yticks(y_pos, zones)\n",
    "plt.xlabel('Warmup time (seconds)')\n",
    "plt.title('Warmup time for every zone')\n",
    "\n",
    "plt.show()"
   ]
  },
  {
   "cell_type": "markdown",
   "metadata": {},
   "source": [
    "## 4. How long an athlete stays in every zone?"
   ]
  },
  {
   "cell_type": "code",
   "execution_count": 99,
   "metadata": {},
   "outputs": [],
   "source": [
    "sql='select zone, count(*) as duration from activities_base_with_zone group by 1;'\n",
    "time_in_zone=query_activities_db(sql)\n"
   ]
  },
  {
   "cell_type": "code",
   "execution_count": 100,
   "metadata": {},
   "outputs": [
    {
     "data": {
      "image/png": "[encoded data removed]",
      "text/plain": [
       "<Figure size 640x480 with 1 Axes>"
      ]
     },
     "metadata": {},
     "output_type": "display_data"
    }
   ],
   "source": [
    "import matplotlib.pyplot as plt; plt.rcdefaults()\n",
    "import numpy as np\n",
    "import matplotlib.pyplot as plt\n",
    "\n",
    "zones=[]\n",
    "for i in time_in_zone:\n",
    "    zones=zones+[i[0]]\n",
    "\n",
    "y_pos = np.arange(len(zones))\n",
    "\n",
    "time_spent=[]\n",
    "for i in time_in_zone:\n",
    "    time_spent=time_spent+[i[1]]\n",
    "    \n",
    "plt.barh(y_pos, time_spent, align='center', alpha=1)\n",
    "plt.yticks(y_pos, zones)\n",
    "plt.xlabel('Time spent (seconds)')\n",
    "plt.title('Time spent in every zone')\n",
    "\n",
    "plt.show()"
   ]
  },
  {
   "cell_type": "code",
   "execution_count": 66,
   "metadata": {},
   "outputs": [
    {
     "data": {
      "text/html": [
       "<div>\n",
       "<style scoped>\n",
       "    .dataframe tbody tr th:only-of-type {\n",
       "        vertical-align: middle;\n",
       "    }\n",
       "\n",
       "    .dataframe tbody tr th {\n",
       "        vertical-align: top;\n",
       "    }\n",
       "\n",
       "    .dataframe thead th {\n",
       "        text-align: right;\n",
       "    }\n",
       "</style>\n",
       "<table border=\"1\" class=\"dataframe\">\n",
       "  <thead>\n",
       "    <tr style=\"text-align: right;\">\n",
       "      <th></th>\n",
       "      <th>zone</th>\n",
       "      <th>duration</th>\n",
       "    </tr>\n",
       "  </thead>\n",
       "  <tbody>\n",
       "    <tr>\n",
       "      <th>0</th>\n",
       "      <td>0</td>\n",
       "      <td>10545</td>\n",
       "    </tr>\n",
       "    <tr>\n",
       "      <th>1</th>\n",
       "      <td>1</td>\n",
       "      <td>15385</td>\n",
       "    </tr>\n",
       "    <tr>\n",
       "      <th>2</th>\n",
       "      <td>2</td>\n",
       "      <td>14858</td>\n",
       "    </tr>\n",
       "    <tr>\n",
       "      <th>3</th>\n",
       "      <td>3</td>\n",
       "      <td>24482</td>\n",
       "    </tr>\n",
       "    <tr>\n",
       "      <th>4</th>\n",
       "      <td>4</td>\n",
       "      <td>8499</td>\n",
       "    </tr>\n",
       "    <tr>\n",
       "      <th>5</th>\n",
       "      <td>5</td>\n",
       "      <td>478</td>\n",
       "    </tr>\n",
       "  </tbody>\n",
       "</table>\n",
       "</div>"
      ],
      "text/plain": [
       "   zone  duration\n",
       "0     0     10545\n",
       "1     1     15385\n",
       "2     2     14858\n",
       "3     3     24482\n",
       "4     4      8499\n",
       "5     5       478"
      ]
     },
     "execution_count": 66,
     "metadata": {},
     "output_type": "execute_result"
    }
   ],
   "source": [
    "# an alternative visualization \n",
    "conn = create_connection(db_file, delete_db=False)\n",
    "sql='select zone, count(*) as duration from activities_base_with_zone group by 1;'\n",
    "zone_duration=pd.read_sql(sql,conn)\n",
    "pd.read_sql(sql,conn)"
   ]
  },
  {
   "cell_type": "code",
   "execution_count": 112,
   "metadata": {},
   "outputs": [],
   "source": [
    "Zones=zone_duration['zone'].to_numpy()\n",
    "Duration=zone_duration['duration'].to_numpy()\n",
    "series = pd.Series(Duration, index=Zones, name='Time spent on every zone')\n",
    "# series.plot.pie(figsize=(10, 10),startangle=90, autopct='%1.0f%%', pctdistance=1.1, labeldistance=1.2)"
   ]
  },
  {
   "cell_type": "markdown",
   "metadata": {},
   "source": [
    "# 5. Percentage duration spent in every zone"
   ]
  },
  {
   "cell_type": "code",
   "execution_count": 86,
   "metadata": {},
   "outputs": [
    {
     "data": {
      "image/png": "[encoded data removed]",
      "text/plain": [
       "<Figure size 432x288 with 1 Axes>"
      ]
     },
     "metadata": {},
     "output_type": "display_data"
    }
   ],
   "source": [
    "import matplotlib.pyplot as plt\n",
    "explode=(0,0,0,0.1,0,0.2)\n",
    "fig1,ax1=plt.subplots()\n",
    "ax1.pie(Duration,explode=explode,labels=Zones,autopct='%1.1f%%', shadow=False, startangle=90)\n",
    "ax1.axis('equal')\n",
    "plt.tight_layout()\n",
    "plt.show()"
   ]
  },
  {
   "cell_type": "markdown",
   "metadata": {},
   "source": [
    "# 6. Is elevation gain directly related to Heartrate increase?\n"
   ]
  },
  {
   "cell_type": "code",
   "execution_count": 110,
   "metadata": {},
   "outputs": [],
   "source": [
    "filenames=['Running_18-34-29.csv']\n",
    "\n",
    "listdf=[]\n",
    "timeintervals=[]\n",
    "for filename in filenames:    \n",
    "    activity=\"\"\"'\"\"\"+filename+\"\"\"'\"\"\"\n",
    "    prevelevation=0\n",
    "    prevheartrate=0\n",
    "    elevationchange=[]\n",
    "    heartratechange=[]\n",
    "    for k in range(30,91,30):\n",
    "        for i in range(1,2000,k):\n",
    "            sql1=\"\"\"select elevation , heartrate from activities_base where activity_id= %s order by time asc LIMIT %s\"\"\"%(activity,i)\n",
    "            conn = create_connection(db_file, delete_db=False)\n",
    "            cur=conn.cursor()\n",
    "            row=cur.execute(sql1).fetchall().pop()\n",
    "            elevationchange.append(abs(row[0]-prevelevation))\n",
    "            heartratechange.append(abs(row[1]-prevheartrate))\n",
    "            prevelevation=row[0]\n",
    "            prevheartrate=row[1]\n",
    "        elevationchange=elevationchange[1:]\n",
    "        heartratechange=heartratechange[1:]\n",
    "        df = pd.DataFrame(list(zip(elevationchange, heartratechange)), columns =['Elevation Gain', 'Heartrate increase']) \n",
    "        listdf.append(df)\n",
    "    timeintervals.append(k)\n",
    "\n",
    "elevation_hr=listdf[0]\n"
   ]
  },
  {
   "cell_type": "code",
   "execution_count": 111,
   "metadata": {},
   "outputs": [
    {
     "data": {
      "image/png": "[encoded data removed]",
      "text/plain": [
       "<Figure size 432x288 with 1 Axes>"
      ]
     },
     "metadata": {
      "needs_background": "light"
     },
     "output_type": "display_data"
    }
   ],
   "source": [
    "lines = elevation_hr.plot(title='Heart rate increase vs elevation gain across time')"
   ]
  }
 ],
 "metadata": {
  "kernelspec": {
   "display_name": "Python 3",
   "language": "python",
   "name": "python3"
  },
  "language_info": {
   "codemirror_mode": {
    "name": "ipython",
    "version": 3
   },
   "file_extension": ".py",
   "mimetype": "text/x-python",
   "name": "python",
   "nbconvert_exporter": "python",
   "pygments_lexer": "ipython3",
   "version": "3.7.3"
  }
 },
 "nbformat": 4,
 "nbformat_minor": 2
}
